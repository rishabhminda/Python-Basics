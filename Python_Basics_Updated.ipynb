{
  "cells": [
    {
      "cell_type": "markdown",
      "source": [
        "#1. What is Python and why is it popular?\n",
        "-Python is a programming language used to give instructions to a computer. It is popular because it is widely used in the industry,versatile and simplicity of writing the codes and understanding, wide library which is updated by the community\n",
        "#2.What is an interpreter in Python?\n",
        "-A interpreter in Python is a computer program that translates a python code to computer understandable code\n",
        "#3.What are predefined keyword in Python?\n",
        "-Pre defined keyword in Python are predefined words that hold a special meaning and have a specific purpose in Python programming\n",
        "#4.Can keywords be used as variable names?\n",
        "-Keyword should not be used as variable in Python but if used than the existing functionality/purpose of the keyword will be lost and Python will not treat it like a keyword anymore but like any other variable\n",
        "#5.What is mutability in Python?\n",
        "-Mutability in Python as the word suggest is the possilibity of changing or editing a particular value in a data container\n",
        "#6.Why are list mutable, but tuples are immutable?\n",
        "-Lists are mutable as they are stored as reference to the data container however string is stored as value in the data container making list as mutable and string as immutable.\n",
        "#7.What is the difference in \"==\" and \"is\" operator in Python?\n",
        "-\"==\" is the comparison operator which checks two values and returns True or False while \"is\" is a assignment operator which checks if two values are referring to the same memory block\n",
        "#8.What are logical operators in Python?\n",
        "-Logical operators in Python are used to combine conditional statements and perform logical comparisons on two or more operands\n",
        "#9.What is type casting in Python?\n",
        "-Type casting in Python is changing the type of a variable from one type to another e.g int to str\n",
        "#10.What is the difference in implicit and explicit type casting in Python?\n",
        "-Implicit type casting is done automatically by Python based on its own understanding of a particular data and explicit type casting is where the data type is provided by the user explicitly\n",
        "#11.What is the purpose of conditional statements in Python?\n",
        "-Conditional statement are control flow statements like \"if\" which is used to check if a particular statement is fulfilled or met. If yes it takes a certain decision and if no than another decision is taken\n",
        "#12.How does the elif statement works?\n",
        "-elif statement is else if statements used to check multiple conditions so if one condition is not met than the elif statement can be used to check another condition\n",
        "#13.What is the difference between for and while loops?\n",
        "-Both for and while loop are loop statement however a for loop is used when the number of iterations is known, while a while loop is used when the number of iterations is not known\n",
        "#14.Describe a scanario where a while loop is more suitable than a for loop.\n",
        "-A while loop is more suitalbe when we do not know the number of iteration we need to run for example counting the number of passengers in a bus and also when we need to end the loop on a certain condition\n"
      ],
      "metadata": {
        "id": "idK1xF0u14hT"
      }
    },
    {
      "cell_type": "code",
      "source": [
        "#1.Write a Python program to print \"Hello,World!\"\n",
        "print(\"Hello,World!\")"
      ],
      "metadata": {
        "colab": {
          "base_uri": "https://localhost:8080/"
        },
        "id": "w-VtjG8N5J7P",
        "outputId": "c2d0002a-37e6-4b5f-c687-f4c6da17d3c4"
      },
      "execution_count": 1,
      "outputs": [
        {
          "output_type": "stream",
          "name": "stdout",
          "text": [
            "Hello,World!\n"
          ]
        }
      ]
    },
    {
      "cell_type": "code",
      "source": [
        "#2.Write a Python program that display your Name and Age\n",
        "print(\"Name:Rishabh Minda\",\"Age:42\")"
      ],
      "metadata": {
        "colab": {
          "base_uri": "https://localhost:8080/"
        },
        "id": "eCzx-jcL4yCR",
        "outputId": "a39258d8-a5cc-45af-8fb3-c410f963a59b"
      },
      "execution_count": 3,
      "outputs": [
        {
          "output_type": "stream",
          "name": "stdout",
          "text": [
            "Name:Rishabh Minda Age:42\n"
          ]
        }
      ]
    },
    {
      "cell_type": "code",
      "source": [
        "#3.Write code to print all the pre-defined keywords in Python using the keyword library\n",
        "help(\"keywords\")"
      ],
      "metadata": {
        "colab": {
          "base_uri": "https://localhost:8080/"
        },
        "id": "QBlG_yWp57_f",
        "outputId": "3b359314-0fe1-4cae-e12d-01eab527e323"
      },
      "execution_count": 11,
      "outputs": [
        {
          "output_type": "stream",
          "name": "stdout",
          "text": [
            "\n",
            "Here is a list of the Python keywords.  Enter any keyword to get more help.\n",
            "\n",
            "False               class               from                or\n",
            "None                continue            global              pass\n",
            "True                def                 if                  raise\n",
            "and                 del                 import              return\n",
            "as                  elif                in                  try\n",
            "assert              else                is                  while\n",
            "async               except              lambda              with\n",
            "await               finally             nonlocal            yield\n",
            "break               for                 not                 \n",
            "\n"
          ]
        }
      ]
    },
    {
      "cell_type": "code",
      "source": [
        "#Write a program to check if a given word is a Python keyword\n",
        "import keyword\n",
        "keyword.iskeyword(\"if\")"
      ],
      "metadata": {
        "colab": {
          "base_uri": "https://localhost:8080/"
        },
        "id": "j5Rmi-xzM3MY",
        "outputId": "a148718f-f965-46ec-db8d-bbbd91b0100d"
      },
      "execution_count": 80,
      "outputs": [
        {
          "output_type": "execute_result",
          "data": {
            "text/plain": [
              "True"
            ]
          },
          "metadata": {},
          "execution_count": 80
        }
      ]
    },
    {
      "cell_type": "code",
      "source": [
        "#5.create a list and tuple in Python and demonstrate how attempting to change an element works differently for each\n",
        "demo_list = [\"a\",\"Ajay\",123]\n",
        "demo_tuple=(\"a\",\"Ajay\",123)\n",
        "demo_list[1]=\"Vijay\"\n",
        "print(demo_list)\n",
        "demo_tuple[2]=\"Vijay\""
      ],
      "metadata": {
        "colab": {
          "base_uri": "https://localhost:8080/",
          "height": 193
        },
        "id": "naItPBdc7NiI",
        "outputId": "03ccc8f6-2fee-42f9-b89d-fd01344b9e74"
      },
      "execution_count": 32,
      "outputs": [
        {
          "output_type": "stream",
          "name": "stdout",
          "text": [
            "['a', 'Vijay', 123]\n"
          ]
        },
        {
          "output_type": "error",
          "ename": "TypeError",
          "evalue": "'tuple' object does not support item assignment",
          "traceback": [
            "\u001b[0;31m---------------------------------------------------------------------------\u001b[0m",
            "\u001b[0;31mTypeError\u001b[0m                                 Traceback (most recent call last)",
            "\u001b[0;32m<ipython-input-32-b589ae46fd2b>\u001b[0m in \u001b[0;36m<cell line: 6>\u001b[0;34m()\u001b[0m\n\u001b[1;32m      4\u001b[0m \u001b[0mdemo_list\u001b[0m\u001b[0;34m[\u001b[0m\u001b[0;36m1\u001b[0m\u001b[0;34m]\u001b[0m\u001b[0;34m=\u001b[0m\u001b[0;34m\"Vijay\"\u001b[0m\u001b[0;34m\u001b[0m\u001b[0;34m\u001b[0m\u001b[0m\n\u001b[1;32m      5\u001b[0m \u001b[0mprint\u001b[0m\u001b[0;34m(\u001b[0m\u001b[0mdemo_list\u001b[0m\u001b[0;34m)\u001b[0m\u001b[0;34m\u001b[0m\u001b[0;34m\u001b[0m\u001b[0m\n\u001b[0;32m----> 6\u001b[0;31m \u001b[0mdemo_tuple\u001b[0m\u001b[0;34m[\u001b[0m\u001b[0;36m2\u001b[0m\u001b[0;34m]\u001b[0m\u001b[0;34m=\u001b[0m\u001b[0;34m\"Vijay\"\u001b[0m\u001b[0;34m\u001b[0m\u001b[0;34m\u001b[0m\u001b[0m\n\u001b[0m",
            "\u001b[0;31mTypeError\u001b[0m: 'tuple' object does not support item assignment"
          ]
        }
      ]
    },
    {
      "cell_type": "code",
      "source": [
        "#6.write a function to demonstrate the behaviour of mutable and immutable argument\n",
        "def demo_function(mut,immut):\n",
        "  demo_list=[\"A\",123,\"Vijay\"]\n",
        "  demo_list[2]=mut\n",
        "  print(demo_list)\n",
        "  demo_tuple=(\"A\",123,\"Vijay\")\n",
        "  demo_tuple[2]=immut\n",
        "  print(demo_list)\n",
        "  print(demo_tuple)\n",
        "\n",
        "demo_function(\"Rishabh\",\"42\")\n"
      ],
      "metadata": {
        "colab": {
          "base_uri": "https://localhost:8080/",
          "height": 315
        },
        "id": "3nL1VmhB9ahs",
        "outputId": "d0ff5833-c22a-420f-82af-e009ba4ec9af"
      },
      "execution_count": 31,
      "outputs": [
        {
          "output_type": "stream",
          "name": "stdout",
          "text": [
            "['A', 123, 'Rishabh']\n"
          ]
        },
        {
          "output_type": "error",
          "ename": "TypeError",
          "evalue": "'tuple' object does not support item assignment",
          "traceback": [
            "\u001b[0;31m---------------------------------------------------------------------------\u001b[0m",
            "\u001b[0;31mTypeError\u001b[0m                                 Traceback (most recent call last)",
            "\u001b[0;32m<ipython-input-31-7303012de90c>\u001b[0m in \u001b[0;36m<cell line: 11>\u001b[0;34m()\u001b[0m\n\u001b[1;32m      9\u001b[0m   \u001b[0mprint\u001b[0m\u001b[0;34m(\u001b[0m\u001b[0mdemo_tuple\u001b[0m\u001b[0;34m)\u001b[0m\u001b[0;34m\u001b[0m\u001b[0;34m\u001b[0m\u001b[0m\n\u001b[1;32m     10\u001b[0m \u001b[0;34m\u001b[0m\u001b[0m\n\u001b[0;32m---> 11\u001b[0;31m \u001b[0mdemo_function\u001b[0m\u001b[0;34m(\u001b[0m\u001b[0;34m\"Rishabh\"\u001b[0m\u001b[0;34m,\u001b[0m\u001b[0;34m\"42\"\u001b[0m\u001b[0;34m)\u001b[0m\u001b[0;34m\u001b[0m\u001b[0;34m\u001b[0m\u001b[0m\n\u001b[0m",
            "\u001b[0;32m<ipython-input-31-7303012de90c>\u001b[0m in \u001b[0;36mdemo_function\u001b[0;34m(mut, immut)\u001b[0m\n\u001b[1;32m      5\u001b[0m   \u001b[0mprint\u001b[0m\u001b[0;34m(\u001b[0m\u001b[0mdemo_list\u001b[0m\u001b[0;34m)\u001b[0m\u001b[0;34m\u001b[0m\u001b[0;34m\u001b[0m\u001b[0m\n\u001b[1;32m      6\u001b[0m   \u001b[0mdemo_tuple\u001b[0m\u001b[0;34m=\u001b[0m\u001b[0;34m(\u001b[0m\u001b[0;34m\"A\"\u001b[0m\u001b[0;34m,\u001b[0m\u001b[0;36m123\u001b[0m\u001b[0;34m,\u001b[0m\u001b[0;34m\"Vijay\"\u001b[0m\u001b[0;34m)\u001b[0m\u001b[0;34m\u001b[0m\u001b[0;34m\u001b[0m\u001b[0m\n\u001b[0;32m----> 7\u001b[0;31m   \u001b[0mdemo_tuple\u001b[0m\u001b[0;34m[\u001b[0m\u001b[0;36m2\u001b[0m\u001b[0;34m]\u001b[0m\u001b[0;34m=\u001b[0m\u001b[0mimmut\u001b[0m\u001b[0;34m\u001b[0m\u001b[0;34m\u001b[0m\u001b[0m\n\u001b[0m\u001b[1;32m      8\u001b[0m   \u001b[0mprint\u001b[0m\u001b[0;34m(\u001b[0m\u001b[0mdemo_list\u001b[0m\u001b[0;34m)\u001b[0m\u001b[0;34m\u001b[0m\u001b[0;34m\u001b[0m\u001b[0m\n\u001b[1;32m      9\u001b[0m   \u001b[0mprint\u001b[0m\u001b[0;34m(\u001b[0m\u001b[0mdemo_tuple\u001b[0m\u001b[0;34m)\u001b[0m\u001b[0;34m\u001b[0m\u001b[0;34m\u001b[0m\u001b[0m\n",
            "\u001b[0;31mTypeError\u001b[0m: 'tuple' object does not support item assignment"
          ]
        }
      ]
    },
    {
      "cell_type": "code",
      "source": [
        "#7.write a function to demonstrate the behaviour of mutable and immutable argument\n",
        "def demo_function(mut,immut):\n",
        "  demo_list=[\"A\",123,\"Vijay\"]\n",
        "  demo_list[2]=mut\n",
        "  print(demo_list)\n",
        "  demo_tuple=(\"A\",123,\"Vijay\")\n",
        "  demo_tuple[2]=immut\n",
        "  print(demo_list)\n",
        "  print(demo_tuple)\n",
        "\n",
        "demo_function(\"Rishabh\",\"42\")"
      ],
      "metadata": {
        "colab": {
          "base_uri": "https://localhost:8080/",
          "height": 315
        },
        "id": "TBn0YdlACKs-",
        "outputId": "75dab1d4-da1f-4d29-9bd8-141372eb728b"
      },
      "execution_count": 52,
      "outputs": [
        {
          "output_type": "stream",
          "name": "stdout",
          "text": [
            "['A', 123, 'Rishabh']\n"
          ]
        },
        {
          "output_type": "error",
          "ename": "TypeError",
          "evalue": "'tuple' object does not support item assignment",
          "traceback": [
            "\u001b[0;31m---------------------------------------------------------------------------\u001b[0m",
            "\u001b[0;31mTypeError\u001b[0m                                 Traceback (most recent call last)",
            "\u001b[0;32m<ipython-input-52-3b468fc1e649>\u001b[0m in \u001b[0;36m<cell line: 11>\u001b[0;34m()\u001b[0m\n\u001b[1;32m      9\u001b[0m   \u001b[0mprint\u001b[0m\u001b[0;34m(\u001b[0m\u001b[0mdemo_tuple\u001b[0m\u001b[0;34m)\u001b[0m\u001b[0;34m\u001b[0m\u001b[0;34m\u001b[0m\u001b[0m\n\u001b[1;32m     10\u001b[0m \u001b[0;34m\u001b[0m\u001b[0m\n\u001b[0;32m---> 11\u001b[0;31m \u001b[0mdemo_function\u001b[0m\u001b[0;34m(\u001b[0m\u001b[0;34m\"Rishabh\"\u001b[0m\u001b[0;34m,\u001b[0m\u001b[0;34m\"42\"\u001b[0m\u001b[0;34m)\u001b[0m\u001b[0;34m\u001b[0m\u001b[0;34m\u001b[0m\u001b[0m\n\u001b[0m",
            "\u001b[0;32m<ipython-input-52-3b468fc1e649>\u001b[0m in \u001b[0;36mdemo_function\u001b[0;34m(mut, immut)\u001b[0m\n\u001b[1;32m      5\u001b[0m   \u001b[0mprint\u001b[0m\u001b[0;34m(\u001b[0m\u001b[0mdemo_list\u001b[0m\u001b[0;34m)\u001b[0m\u001b[0;34m\u001b[0m\u001b[0;34m\u001b[0m\u001b[0m\n\u001b[1;32m      6\u001b[0m   \u001b[0mdemo_tuple\u001b[0m\u001b[0;34m=\u001b[0m\u001b[0;34m(\u001b[0m\u001b[0;34m\"A\"\u001b[0m\u001b[0;34m,\u001b[0m\u001b[0;36m123\u001b[0m\u001b[0;34m,\u001b[0m\u001b[0;34m\"Vijay\"\u001b[0m\u001b[0;34m)\u001b[0m\u001b[0;34m\u001b[0m\u001b[0;34m\u001b[0m\u001b[0m\n\u001b[0;32m----> 7\u001b[0;31m   \u001b[0mdemo_tuple\u001b[0m\u001b[0;34m[\u001b[0m\u001b[0;36m2\u001b[0m\u001b[0;34m]\u001b[0m\u001b[0;34m=\u001b[0m\u001b[0mimmut\u001b[0m\u001b[0;34m\u001b[0m\u001b[0;34m\u001b[0m\u001b[0m\n\u001b[0m\u001b[1;32m      8\u001b[0m   \u001b[0mprint\u001b[0m\u001b[0;34m(\u001b[0m\u001b[0mdemo_list\u001b[0m\u001b[0;34m)\u001b[0m\u001b[0;34m\u001b[0m\u001b[0;34m\u001b[0m\u001b[0m\n\u001b[1;32m      9\u001b[0m   \u001b[0mprint\u001b[0m\u001b[0;34m(\u001b[0m\u001b[0mdemo_tuple\u001b[0m\u001b[0;34m)\u001b[0m\u001b[0;34m\u001b[0m\u001b[0;34m\u001b[0m\u001b[0m\n",
            "\u001b[0;31mTypeError\u001b[0m: 'tuple' object does not support item assignment"
          ]
        }
      ]
    },
    {
      "cell_type": "code",
      "source": [
        "#8. Write a program to demonstrate the use of logical operators\n",
        "demo_list=[\"A\",123,\"Vijay\",True]\n",
        "print(demo_list)\n",
        "if demo_list[0]==\"A\" and demo_list[2]==\"Vijay\":\n",
        "  demo_list[2]=\"Rishabh\"\n",
        "\n",
        "if demo_list[0]==\"B\" or demo_list[1]==123:\n",
        "  demo_list[3]=not True\n",
        "print(demo_list)\n",
        ""
      ],
      "metadata": {
        "colab": {
          "base_uri": "https://localhost:8080/"
        },
        "id": "D4X5gcOcCN9J",
        "outputId": "7c8a31a7-0681-4107-9f1b-4b244dbddb51"
      },
      "execution_count": 75,
      "outputs": [
        {
          "output_type": "stream",
          "name": "stdout",
          "text": [
            "['A', 123, 'Vijay', True]\n",
            "['A', 123, 'Rishabh', False]\n"
          ]
        }
      ]
    },
    {
      "cell_type": "code",
      "source": [
        "#9. Write a python program to convert a user input from string to integer,float,and boolean type\n",
        "age=input(\"Please give your age\")\n",
        "print(age)\n",
        "age=int(age)\n",
        "print(age)\n",
        "age=float(age)\n",
        "print(age)\n",
        "age=bool(age)\n",
        "print(age)"
      ],
      "metadata": {
        "colab": {
          "base_uri": "https://localhost:8080/"
        },
        "id": "KuwqES9gMjav",
        "outputId": "c1e482d2-233d-4c51-fea0-542de38e7704"
      },
      "execution_count": 82,
      "outputs": [
        {
          "output_type": "stream",
          "name": "stdout",
          "text": [
            "Please give your age10\n",
            "10\n",
            "10\n",
            "10.0\n",
            "True\n"
          ]
        }
      ]
    },
    {
      "cell_type": "code",
      "source": [
        "#10.Write code to demonstrate type casting with list elements\n",
        "demo_list=[\"A\",123,\"Vijay\",True]\n",
        "print(demo_list)\n",
        "demo_list[1]=\"Rishabh\"\n",
        "demo_list[3]=\"Done\"\n",
        "print(demo_list)"
      ],
      "metadata": {
        "colab": {
          "base_uri": "https://localhost:8080/"
        },
        "id": "NwI_aPVAOupa",
        "outputId": "20cd7816-7037-4f63-98ca-ea6f841a99be"
      },
      "execution_count": 83,
      "outputs": [
        {
          "output_type": "stream",
          "name": "stdout",
          "text": [
            "['A', 123, 'Vijay', True]\n",
            "['A', 'Rishabh', 'Vijay', 'Done']\n"
          ]
        }
      ]
    },
    {
      "cell_type": "code",
      "source": [
        "#11.Write a program that checks if a number is positive,negative or zero\n",
        "temperature=input(\"What is the weather temperature in your city\")\n",
        "temperature=int(temperature)\n",
        "if temperature==0:\n",
        "  print(\"This is zero\")\n",
        "elif temperature > 0:\n",
        "  print(\"This is a positive number\")\n",
        "else:\n",
        "  print(\"This is a negative number\")"
      ],
      "metadata": {
        "colab": {
          "base_uri": "https://localhost:8080/"
        },
        "id": "zLiGzXSbPW2s",
        "outputId": "63711435-a6dc-467b-f142-744e506aec94"
      },
      "execution_count": 92,
      "outputs": [
        {
          "output_type": "stream",
          "name": "stdout",
          "text": [
            "What is the weather temperature in your city0\n",
            "This is zero\n"
          ]
        }
      ]
    },
    {
      "cell_type": "code",
      "source": [
        "#12.Write a for loop to print numbers from 1 to 10\n",
        "for z in range(1,11):\n",
        "  print(z)\n"
      ],
      "metadata": {
        "colab": {
          "base_uri": "https://localhost:8080/"
        },
        "id": "9UGS6LvxRXhu",
        "outputId": "458a5bf6-0ba7-494d-efb0-14f25b11887c"
      },
      "execution_count": 94,
      "outputs": [
        {
          "output_type": "stream",
          "name": "stdout",
          "text": [
            "1\n",
            "2\n",
            "3\n",
            "4\n",
            "5\n",
            "6\n",
            "7\n",
            "8\n",
            "9\n",
            "10\n"
          ]
        }
      ]
    },
    {
      "cell_type": "code",
      "source": [
        "#13.Write a Python program to find sum of all even numbers between 1 and 50\n",
        "r=0\n",
        "for z in range(1,51):\n",
        "  if z%2 ==0:\n",
        "    r= r+z\n",
        "print(r)"
      ],
      "metadata": {
        "colab": {
          "base_uri": "https://localhost:8080/"
        },
        "id": "dYtDs2ikSPDO",
        "outputId": "7f5463f0-5b1e-487d-e406-2808d84b47f3"
      },
      "execution_count": 102,
      "outputs": [
        {
          "output_type": "stream",
          "name": "stdout",
          "text": [
            "650\n"
          ]
        }
      ]
    },
    {
      "cell_type": "code",
      "source": [
        "#14.Write a program to reverse a string using a while loop\n",
        "demo_var=\"Rishabh\"\n",
        "test_len=len(demo_var)\n",
        "while test_len>0:\n",
        "  print(demo_var[test_len-1])\n",
        "  test_len=test_len-1"
      ],
      "metadata": {
        "colab": {
          "base_uri": "https://localhost:8080/"
        },
        "id": "Lb9aLf9pUT7t",
        "outputId": "1064d64e-731a-4171-8340-2a6feab2bc08"
      },
      "execution_count": 114,
      "outputs": [
        {
          "output_type": "stream",
          "name": "stdout",
          "text": [
            "h\n",
            "b\n",
            "a\n",
            "h\n",
            "s\n",
            "i\n",
            "R\n"
          ]
        }
      ]
    },
    {
      "cell_type": "code",
      "source": [
        "#15.Write a program to calculate the factorial of a number provided by the user using a while loop\n",
        "z=1\n",
        "user_input=input(\"Please give a number to do the factorial\")\n",
        "user_input=int(user_input)\n",
        "while user_input>0:\n",
        "  z = z*user_input\n",
        "  user_input= user_input-1\n",
        "print(z)"
      ],
      "metadata": {
        "colab": {
          "base_uri": "https://localhost:8080/"
        },
        "id": "DXKCotqyW1iX",
        "outputId": "de68c76f-4ee1-45fa-a63e-fa14c0a34f5b"
      },
      "execution_count": 117,
      "outputs": [
        {
          "output_type": "stream",
          "name": "stdout",
          "text": [
            "Please give a number to do the factorial4\n",
            "24\n"
          ]
        }
      ]
    }
  ],
  "metadata": {
    "colab": {
      "name": "Welcome to Colaboratory",
      "toc_visible": true,
      "provenance": []
    },
    "kernelspec": {
      "display_name": "Python 3",
      "name": "python3"
    }
  },
  "nbformat": 4,
  "nbformat_minor": 0
}